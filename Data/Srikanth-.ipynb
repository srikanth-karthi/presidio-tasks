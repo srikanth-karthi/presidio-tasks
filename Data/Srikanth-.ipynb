{
 "cells": [
  {
   "cell_type": "code",
   "execution_count": 37,
   "id": "8cfe0cee",
   "metadata": {},
   "outputs": [],
   "source": [
    "from pyspark.sql import SparkSession\n",
    "import pyspark.sql.functions as F\n",
    "from pyspark.sql import types \n",
    "from pyspark.sql.window import Window"
   ]
  },
  {
   "cell_type": "code",
   "execution_count": 3,
   "id": "785a099f",
   "metadata": {},
   "outputs": [],
   "source": [
    "spark = SparkSession.builder.appName(\"covid\").getOrCreate()\n",
    "filepath = \"/Users/SRIKANTH/Downloads/Data/complete.csv\""
   ]
  },
  {
   "cell_type": "code",
   "execution_count": 5,
   "id": "38f54ad4",
   "metadata": {},
   "outputs": [],
   "source": [
    "df_csv = spark.read.format(\"csv\") \\\n",
    "            .option(\"header\", True) \\\n",
    "            .option(\"multiLine\", True) \\\n",
    "            .option(\"ignoreLeadingWhiteSpace\",True) \\\n",
    "            .option(\"ignoreTrailingWhiteSpace\",True) \\\n",
    "            .option(\"escape\", \"\\\\\") \\\n",
    "            .option(\"quote\", \"\\\"\") \\\n",
    "            .load(filepath)"
   ]
  },
  {
   "cell_type": "code",
   "execution_count": 6,
   "id": "d5c31bf7",
   "metadata": {
    "scrolled": true
   },
   "outputs": [
    {
     "name": "stdout",
     "output_type": "stream",
     "text": [
      "root\n",
      " |-- Date: string (nullable = true)\n",
      " |-- Name of State / UT: string (nullable = true)\n",
      " |-- Latitude: string (nullable = true)\n",
      " |-- Longitude: string (nullable = true)\n",
      " |-- Total Confirmed cases: string (nullable = true)\n",
      " |-- Death: string (nullable = true)\n",
      " |-- Cured/Discharged/Migrated: string (nullable = true)\n",
      " |-- New cases: string (nullable = true)\n",
      " |-- New deaths: string (nullable = true)\n",
      " |-- New recovered: string (nullable = true)\n",
      "\n"
     ]
    }
   ],
   "source": [
    "df_csv.printSchema()"
   ]
  },
  {
   "cell_type": "code",
   "execution_count": 112,
   "id": "d7b6b6ce",
   "metadata": {},
   "outputs": [
    {
     "name": "stdout",
     "output_type": "stream",
     "text": [
      "root\n",
      " |-- Date: string (nullable = true)\n",
      " |-- Name of State / UT: string (nullable = true)\n",
      " |-- Latitude: string (nullable = true)\n",
      " |-- Longitude: string (nullable = true)\n",
      " |-- Total Confirmed cases: string (nullable = true)\n",
      " |-- Death: string (nullable = true)\n",
      " |-- Cured/Discharged/Migrated: string (nullable = true)\n",
      " |-- New cases: string (nullable = true)\n",
      " |-- New deaths: string (nullable = true)\n",
      " |-- New recovered: string (nullable = true)\n",
      " |-- total_case: long (nullable = true)\n",
      " |-- state: string (nullable = true)\n",
      " |-- death_Case: long (nullable = true)\n",
      " |-- total_newly_recovered: long (nullable = true)\n",
      "\n"
     ]
    }
   ],
   "source": [
    "df_csv = df_csv.withColumn(\"total_case\", df_csv[\"Total Confirmed cases\"].cast(types.LongType()))\n",
    "df_csv = df_csv.withColumn(\"total_newly_recovered\", df_csv[\"New recovered\"].cast(types.LongType()))\n",
    "df_csv = df_csv.withColumn(\"state\", df_csv[\"Name of State / UT\"].cast(types.StringType()))\n",
    "df_csv = df_csv.withColumn(\"death_Case\", df_csv[\"Death\"].cast(types.LongType()))\n",
    "df_csv.printSchema()"
   ]
  },
  {
   "attachments": {},
   "cell_type": "markdown",
   "id": "7fa96202",
   "metadata": {},
   "source": [
    "# The day had more number of covid cases."
   ]
  },
  {
   "cell_type": "code",
   "execution_count": 56,
   "id": "02b50ad1",
   "metadata": {},
   "outputs": [],
   "source": [
    "output_df_1 = df_csv.groupBy(\"Date\").agg(F.sum(\"total_case\").alias(\"sum_total_case\"))"
   ]
  },
  {
   "cell_type": "code",
   "execution_count": 57,
   "id": "bbda736d",
   "metadata": {},
   "outputs": [],
   "source": [
    "window_spec = Window.orderBy(F.col(\"sum_total_case\").desc())"
   ]
  },
  {
   "cell_type": "code",
   "execution_count": 62,
   "id": "e7e78bb1",
   "metadata": {},
   "outputs": [],
   "source": [
    "output_df_1 = output_df_1.withColumn(\"recency\", F.row_number().over(window_spec)).filter(F.col('recency') == 1).drop('recency')"
   ]
  },
  {
   "cell_type": "code",
   "execution_count": 63,
   "id": "82e1fab5",
   "metadata": {},
   "outputs": [
    {
     "name": "stdout",
     "output_type": "stream",
     "text": [
      "+----------+--------------+\n",
      "|      Date|sum_total_case|\n",
      "+----------+--------------+\n",
      "|2020-08-06|       1964536|\n",
      "+----------+--------------+\n",
      "\n"
     ]
    }
   ],
   "source": [
    "output_df_1.show()"
   ]
  },
  {
   "attachments": {},
   "cell_type": "markdown",
   "id": "4ffab7e0",
   "metadata": {},
   "source": [
    "# The state has the second-largest number of covid cases."
   ]
  },
  {
   "cell_type": "code",
   "execution_count": 64,
   "id": "73b7a94e",
   "metadata": {},
   "outputs": [],
   "source": [
    "output_df_2 = df_csv.groupBy(\"state\").agg(F.sum(\"total_case\").alias(\"sum_total_case\"))"
   ]
  },
  {
   "cell_type": "code",
   "execution_count": 65,
   "id": "81ddeea3",
   "metadata": {},
   "outputs": [],
   "source": [
    "window_spec = Window.orderBy(F.col(\"sum_total_case\").desc())"
   ]
  },
  {
   "cell_type": "code",
   "execution_count": 67,
   "id": "1174c0b1",
   "metadata": {},
   "outputs": [],
   "source": [
    "output_df_2 = output_df_2.withColumn(\"recency\", F.row_number().over(window_spec)).filter(F.col('recency') == 2).drop('recency')"
   ]
  },
  {
   "cell_type": "code",
   "execution_count": 68,
   "id": "4cb30c7f",
   "metadata": {},
   "outputs": [
    {
     "name": "stdout",
     "output_type": "stream",
     "text": [
      "+----------+--------------+\n",
      "|     state|sum_total_case|\n",
      "+----------+--------------+\n",
      "|Tamil Nadu|       7847083|\n",
      "+----------+--------------+\n",
      "\n"
     ]
    }
   ],
   "source": [
    "output_df_2.show()"
   ]
  },
  {
   "attachments": {},
   "cell_type": "markdown",
   "id": "fe4510e5",
   "metadata": {},
   "source": [
    "# Which Union Territory has the least number of death."
   ]
  },
  {
   "cell_type": "code",
   "execution_count": 94,
   "id": "5b14bce7",
   "metadata": {},
   "outputs": [],
   "source": [
    "output_df_3 = df_csv.where(F.col('state').like(\"Union Territory%\"))"
   ]
  },
  {
   "cell_type": "code",
   "execution_count": 95,
   "id": "76d7f5d9",
   "metadata": {},
   "outputs": [],
   "source": [
    "output_df_3 = output_df_3.groupBy(\"state\").agg(F.sum(\"death_Case\").alias(\"sum_total_death\"))"
   ]
  },
  {
   "cell_type": "code",
   "execution_count": 96,
   "id": "5409458b",
   "metadata": {},
   "outputs": [],
   "source": [
    "window_spec = Window.orderBy(F.col(\"sum_total_death\"))"
   ]
  },
  {
   "cell_type": "code",
   "execution_count": 97,
   "id": "86ee97be",
   "metadata": {},
   "outputs": [],
   "source": [
    "output_df_3 = output_df_3.withColumn(\"recency\", F.row_number().over(window_spec)).filter(F.col('recency') == 1).drop('recency')"
   ]
  },
  {
   "cell_type": "code",
   "execution_count": 98,
   "id": "409a66a9",
   "metadata": {},
   "outputs": [
    {
     "name": "stdout",
     "output_type": "stream",
     "text": [
      "+------------------------------------+---------------+\n",
      "|state                               |sum_total_death|\n",
      "+------------------------------------+---------------+\n",
      "|Union Territory of Jammu and Kashmir|0.0            |\n",
      "+------------------------------------+---------------+\n",
      "\n"
     ]
    }
   ],
   "source": [
    "output_df_3.show(truncate=False)"
   ]
  },
  {
   "cell_type": "markdown",
   "id": "bc5aef87",
   "metadata": {},
   "source": [
    "# The state has the Lowest Death to Total Confirmed cases ratio."
   ]
  },
  {
   "cell_type": "code",
   "execution_count": 100,
   "id": "0046edc1",
   "metadata": {},
   "outputs": [],
   "source": [
    "output_df_4 = df_csv.withColumn(\"ratio\", F.col(\"death_Case\")/F.col(\"total_case\"))"
   ]
  },
  {
   "cell_type": "code",
   "execution_count": 102,
   "id": "2d914c06",
   "metadata": {},
   "outputs": [],
   "source": [
    "output_df_4 = output_df_4.groupBy(\"state\").agg(F.avg(\"ratio\").alias(\"avg_ratio\"))"
   ]
  },
  {
   "cell_type": "code",
   "execution_count": 104,
   "id": "5db692ac",
   "metadata": {},
   "outputs": [],
   "source": [
    "window_spec = Window.orderBy(F.col(\"avg_ratio\"))"
   ]
  },
  {
   "cell_type": "code",
   "execution_count": 105,
   "id": "ff05877f",
   "metadata": {},
   "outputs": [],
   "source": [
    "output_df_4 = output_df_4.withColumn(\"recency\", F.row_number().over(window_spec)).filter(F.col('recency') == 1).drop('recency')"
   ]
  },
  {
   "cell_type": "code",
   "execution_count": 106,
   "id": "9ce9889b",
   "metadata": {},
   "outputs": [
    {
     "name": "stdout",
     "output_type": "stream",
     "text": [
      "+-------+---------+\n",
      "|state  |avg_ratio|\n",
      "+-------+---------+\n",
      "|Mizoram|0.0      |\n",
      "+-------+---------+\n",
      "\n"
     ]
    }
   ],
   "source": [
    "output_df_4.show(truncate=False)"
   ]
  },
  {
   "cell_type": "markdown",
   "id": "142fe5a8",
   "metadata": {},
   "source": [
    "# Convert all state names to lowercase."
   ]
  },
  {
   "cell_type": "code",
   "execution_count": 107,
   "id": "b2ef701c",
   "metadata": {},
   "outputs": [],
   "source": [
    "output_df_5 = df_csv.withColumn('state_lower', F.lower(F.col(\"state\")))"
   ]
  },
  {
   "cell_type": "code",
   "execution_count": 109,
   "id": "b12cf907",
   "metadata": {},
   "outputs": [
    {
     "name": "stdout",
     "output_type": "stream",
     "text": [
      "+--------------------+\n",
      "|         state_lower|\n",
      "+--------------------+\n",
      "|               delhi|\n",
      "|         maharashtra|\n",
      "|           meghalaya|\n",
      "|              odisha|\n",
      "|             haryana|\n",
      "|         west bengal|\n",
      "|                 goa|\n",
      "|              punjab|\n",
      "|   jammu and kashmir|\n",
      "|dadra and nagar h...|\n",
      "|           karnataka|\n",
      "|      andhra pradesh|\n",
      "|           telangana|\n",
      "|            nagaland|\n",
      "|               bihar|\n",
      "|      madhya pradesh|\n",
      "|           jharkhand|\n",
      "|               assam|\n",
      "|              kerala|\n",
      "|          tamil nadu|\n",
      "+--------------------+\n",
      "only showing top 20 rows\n",
      "\n"
     ]
    }
   ],
   "source": [
    "output_df_5.select(\"state_lower\").distinct().show()"
   ]
  },
  {
   "cell_type": "markdown",
   "id": "b1d89993",
   "metadata": {},
   "source": [
    "# Find which month the Newer recovered cases."
   ]
  },
  {
   "cell_type": "code",
   "execution_count": 155,
   "id": "e155c578",
   "metadata": {},
   "outputs": [],
   "source": [
    "import calendar\n",
    "from datetime import datetime\n",
    "\n",
    "def get_month_name(month_number):\n",
    "    return calendar.month_name[int(month_number)]\n",
    "\n",
    "def get_month(date):\n",
    "    print(date)\n",
    "    date = datetime.strptime(date, \"%Y-%m-%d\")\n",
    "    return date.month\n",
    "\n",
    "get_month_udf = F.udf(lambda a : get_month(a), types.StringType())\n",
    "get_month_name_udf = F.udf(lambda a : get_month_name(a), types.StringType())"
   ]
  },
  {
   "cell_type": "code",
   "execution_count": 156,
   "id": "e92a7e04",
   "metadata": {},
   "outputs": [],
   "source": [
    "output_df_6 = df_csv.withColumn(\"month\", get_month_udf(F.col(\"date\")))"
   ]
  },
  {
   "cell_type": "code",
   "execution_count": 157,
   "id": "a685c042",
   "metadata": {},
   "outputs": [],
   "source": [
    "output_df_6 = output_df_6.groupBy(\"month\").agg(F.sum(\"total_newly_recovered\").alias(\"sum_newly_recovered\"))"
   ]
  },
  {
   "cell_type": "code",
   "execution_count": 158,
   "id": "a326979e",
   "metadata": {},
   "outputs": [],
   "source": [
    "window_spec = Window.orderBy(F.col(\"sum_newly_recovered\").desc())"
   ]
  },
  {
   "cell_type": "code",
   "execution_count": 159,
   "id": "132af9a8",
   "metadata": {},
   "outputs": [],
   "source": [
    "output_df_6 = output_df_6.withColumn(\"recency\", F.row_number().over(window_spec)).filter(F.col('recency') == 1).drop('recency')"
   ]
  },
  {
   "cell_type": "code",
   "execution_count": 160,
   "id": "62117d34",
   "metadata": {},
   "outputs": [],
   "source": [
    "output_df_6 = output_df_6.withColumn(\"month\", get_month_name_udf(F.col(\"month\")))"
   ]
  },
  {
   "cell_type": "code",
   "execution_count": 161,
   "id": "b54c9671",
   "metadata": {},
   "outputs": [
    {
     "name": "stdout",
     "output_type": "stream",
     "text": [
      "+-----+-------------------+\n",
      "|month|sum_newly_recovered|\n",
      "+-----+-------------------+\n",
      "| July|             722983|\n",
      "+-----+-------------------+\n",
      "\n"
     ]
    }
   ],
   "source": [
    "output_df_6.show()"
   ]
  },
  {
   "cell_type": "code",
   "execution_count": null,
   "id": "5c2d7d29",
   "metadata": {},
   "outputs": [],
   "source": []
  }
 ],
 "metadata": {
  "kernelspec": {
   "display_name": "Python 3",
   "language": "python",
   "name": "python3"
  },
  "language_info": {
   "codemirror_mode": {
    "name": "ipython",
    "version": 3
   },
   "file_extension": ".py",
   "mimetype": "text/x-python",
   "name": "python",
   "nbconvert_exporter": "python",
   "pygments_lexer": "ipython3",
   "version": "3.8.8"
  }
 },
 "nbformat": 4,
 "nbformat_minor": 5
}
